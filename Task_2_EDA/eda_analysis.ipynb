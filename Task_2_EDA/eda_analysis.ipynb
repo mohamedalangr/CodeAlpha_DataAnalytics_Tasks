{
 "cells": [
  {
   "cell_type": "markdown",
   "id": "9767aa00-127f-4b12-9382-5346f79a276b",
   "metadata": {},
   "source": [
    "# 📊 Task 2: Exploratory Data Analysis – HR Analytics\n",
    "\n",
    "This analysis explores employee data from a fictional company to uncover patterns in attrition, satisfaction, and job characteristics.\n",
    "The goal is to answer business-relevant questions and provide visual insights."
   ]
  },
  {
   "cell_type": "code",
   "execution_count": 2,
   "id": "6bc2e840-d562-48d2-ae20-61d6b8c351f7",
   "metadata": {},
   "outputs": [],
   "source": [
    "import pandas as pd\n",
    "import matplotlib.pyplot as plt\n",
    "import seaborn as sns\n",
    "\n",
    "# Optional\n",
    "import warnings\n",
    "warnings.filterwarnings('ignore')\n",
    "\n",
    "sns.set(style=\"whitegrid\")\n"
   ]
  },
  {
   "cell_type": "code",
   "execution_count": 3,
   "id": "d67c0bd2-3ff4-41a9-9fd5-e1e9833c370c",
   "metadata": {},
   "outputs": [
    {
     "data": {
      "text/html": [
       "<div>\n",
       "<style scoped>\n",
       "    .dataframe tbody tr th:only-of-type {\n",
       "        vertical-align: middle;\n",
       "    }\n",
       "\n",
       "    .dataframe tbody tr th {\n",
       "        vertical-align: top;\n",
       "    }\n",
       "\n",
       "    .dataframe thead th {\n",
       "        text-align: right;\n",
       "    }\n",
       "</style>\n",
       "<table border=\"1\" class=\"dataframe\">\n",
       "  <thead>\n",
       "    <tr style=\"text-align: right;\">\n",
       "      <th></th>\n",
       "      <th>Age</th>\n",
       "      <th>Attrition</th>\n",
       "      <th>BusinessTravel</th>\n",
       "      <th>DailyRate</th>\n",
       "      <th>Department</th>\n",
       "      <th>DistanceFromHome</th>\n",
       "      <th>Education</th>\n",
       "      <th>EducationField</th>\n",
       "      <th>EmployeeCount</th>\n",
       "      <th>EmployeeNumber</th>\n",
       "      <th>...</th>\n",
       "      <th>RelationshipSatisfaction</th>\n",
       "      <th>StandardHours</th>\n",
       "      <th>StockOptionLevel</th>\n",
       "      <th>TotalWorkingYears</th>\n",
       "      <th>TrainingTimesLastYear</th>\n",
       "      <th>WorkLifeBalance</th>\n",
       "      <th>YearsAtCompany</th>\n",
       "      <th>YearsInCurrentRole</th>\n",
       "      <th>YearsSinceLastPromotion</th>\n",
       "      <th>YearsWithCurrManager</th>\n",
       "    </tr>\n",
       "  </thead>\n",
       "  <tbody>\n",
       "    <tr>\n",
       "      <th>0</th>\n",
       "      <td>41</td>\n",
       "      <td>Yes</td>\n",
       "      <td>Travel_Rarely</td>\n",
       "      <td>1102</td>\n",
       "      <td>Sales</td>\n",
       "      <td>1</td>\n",
       "      <td>2</td>\n",
       "      <td>Life Sciences</td>\n",
       "      <td>1</td>\n",
       "      <td>1</td>\n",
       "      <td>...</td>\n",
       "      <td>1</td>\n",
       "      <td>80</td>\n",
       "      <td>0</td>\n",
       "      <td>8</td>\n",
       "      <td>0</td>\n",
       "      <td>1</td>\n",
       "      <td>6</td>\n",
       "      <td>4</td>\n",
       "      <td>0</td>\n",
       "      <td>5</td>\n",
       "    </tr>\n",
       "    <tr>\n",
       "      <th>1</th>\n",
       "      <td>49</td>\n",
       "      <td>No</td>\n",
       "      <td>Travel_Frequently</td>\n",
       "      <td>279</td>\n",
       "      <td>Research &amp; Development</td>\n",
       "      <td>8</td>\n",
       "      <td>1</td>\n",
       "      <td>Life Sciences</td>\n",
       "      <td>1</td>\n",
       "      <td>2</td>\n",
       "      <td>...</td>\n",
       "      <td>4</td>\n",
       "      <td>80</td>\n",
       "      <td>1</td>\n",
       "      <td>10</td>\n",
       "      <td>3</td>\n",
       "      <td>3</td>\n",
       "      <td>10</td>\n",
       "      <td>7</td>\n",
       "      <td>1</td>\n",
       "      <td>7</td>\n",
       "    </tr>\n",
       "    <tr>\n",
       "      <th>2</th>\n",
       "      <td>37</td>\n",
       "      <td>Yes</td>\n",
       "      <td>Travel_Rarely</td>\n",
       "      <td>1373</td>\n",
       "      <td>Research &amp; Development</td>\n",
       "      <td>2</td>\n",
       "      <td>2</td>\n",
       "      <td>Other</td>\n",
       "      <td>1</td>\n",
       "      <td>4</td>\n",
       "      <td>...</td>\n",
       "      <td>2</td>\n",
       "      <td>80</td>\n",
       "      <td>0</td>\n",
       "      <td>7</td>\n",
       "      <td>3</td>\n",
       "      <td>3</td>\n",
       "      <td>0</td>\n",
       "      <td>0</td>\n",
       "      <td>0</td>\n",
       "      <td>0</td>\n",
       "    </tr>\n",
       "    <tr>\n",
       "      <th>3</th>\n",
       "      <td>33</td>\n",
       "      <td>No</td>\n",
       "      <td>Travel_Frequently</td>\n",
       "      <td>1392</td>\n",
       "      <td>Research &amp; Development</td>\n",
       "      <td>3</td>\n",
       "      <td>4</td>\n",
       "      <td>Life Sciences</td>\n",
       "      <td>1</td>\n",
       "      <td>5</td>\n",
       "      <td>...</td>\n",
       "      <td>3</td>\n",
       "      <td>80</td>\n",
       "      <td>0</td>\n",
       "      <td>8</td>\n",
       "      <td>3</td>\n",
       "      <td>3</td>\n",
       "      <td>8</td>\n",
       "      <td>7</td>\n",
       "      <td>3</td>\n",
       "      <td>0</td>\n",
       "    </tr>\n",
       "    <tr>\n",
       "      <th>4</th>\n",
       "      <td>27</td>\n",
       "      <td>No</td>\n",
       "      <td>Travel_Rarely</td>\n",
       "      <td>591</td>\n",
       "      <td>Research &amp; Development</td>\n",
       "      <td>2</td>\n",
       "      <td>1</td>\n",
       "      <td>Medical</td>\n",
       "      <td>1</td>\n",
       "      <td>7</td>\n",
       "      <td>...</td>\n",
       "      <td>4</td>\n",
       "      <td>80</td>\n",
       "      <td>1</td>\n",
       "      <td>6</td>\n",
       "      <td>3</td>\n",
       "      <td>3</td>\n",
       "      <td>2</td>\n",
       "      <td>2</td>\n",
       "      <td>2</td>\n",
       "      <td>2</td>\n",
       "    </tr>\n",
       "  </tbody>\n",
       "</table>\n",
       "<p>5 rows × 35 columns</p>\n",
       "</div>"
      ],
      "text/plain": [
       "   Age Attrition     BusinessTravel  DailyRate              Department  \\\n",
       "0   41       Yes      Travel_Rarely       1102                   Sales   \n",
       "1   49        No  Travel_Frequently        279  Research & Development   \n",
       "2   37       Yes      Travel_Rarely       1373  Research & Development   \n",
       "3   33        No  Travel_Frequently       1392  Research & Development   \n",
       "4   27        No      Travel_Rarely        591  Research & Development   \n",
       "\n",
       "   DistanceFromHome  Education EducationField  EmployeeCount  EmployeeNumber  \\\n",
       "0                 1          2  Life Sciences              1               1   \n",
       "1                 8          1  Life Sciences              1               2   \n",
       "2                 2          2          Other              1               4   \n",
       "3                 3          4  Life Sciences              1               5   \n",
       "4                 2          1        Medical              1               7   \n",
       "\n",
       "   ...  RelationshipSatisfaction StandardHours  StockOptionLevel  \\\n",
       "0  ...                         1            80                 0   \n",
       "1  ...                         4            80                 1   \n",
       "2  ...                         2            80                 0   \n",
       "3  ...                         3            80                 0   \n",
       "4  ...                         4            80                 1   \n",
       "\n",
       "   TotalWorkingYears  TrainingTimesLastYear WorkLifeBalance  YearsAtCompany  \\\n",
       "0                  8                      0               1               6   \n",
       "1                 10                      3               3              10   \n",
       "2                  7                      3               3               0   \n",
       "3                  8                      3               3               8   \n",
       "4                  6                      3               3               2   \n",
       "\n",
       "  YearsInCurrentRole  YearsSinceLastPromotion  YearsWithCurrManager  \n",
       "0                  4                        0                     5  \n",
       "1                  7                        1                     7  \n",
       "2                  0                        0                     0  \n",
       "3                  7                        3                     0  \n",
       "4                  2                        2                     2  \n",
       "\n",
       "[5 rows x 35 columns]"
      ]
     },
     "execution_count": 3,
     "metadata": {},
     "output_type": "execute_result"
    }
   ],
   "source": [
    "df = pd.read_csv(\"HR Analytics.csv\")\n",
    "df.shape\n",
    "df.head()\n"
   ]
  },
  {
   "cell_type": "code",
   "execution_count": 4,
   "id": "cabf43dd-519f-4fb7-8aff-eabbc0fbf68e",
   "metadata": {},
   "outputs": [
    {
     "name": "stdout",
     "output_type": "stream",
     "text": [
      "<class 'pandas.core.frame.DataFrame'>\n",
      "RangeIndex: 1470 entries, 0 to 1469\n",
      "Data columns (total 35 columns):\n",
      " #   Column                    Non-Null Count  Dtype \n",
      "---  ------                    --------------  ----- \n",
      " 0   Age                       1470 non-null   int64 \n",
      " 1   Attrition                 1470 non-null   object\n",
      " 2   BusinessTravel            1470 non-null   object\n",
      " 3   DailyRate                 1470 non-null   int64 \n",
      " 4   Department                1470 non-null   object\n",
      " 5   DistanceFromHome          1470 non-null   int64 \n",
      " 6   Education                 1470 non-null   int64 \n",
      " 7   EducationField            1470 non-null   object\n",
      " 8   EmployeeCount             1470 non-null   int64 \n",
      " 9   EmployeeNumber            1470 non-null   int64 \n",
      " 10  EnvironmentSatisfaction   1470 non-null   int64 \n",
      " 11  Gender                    1470 non-null   object\n",
      " 12  HourlyRate                1470 non-null   int64 \n",
      " 13  JobInvolvement            1470 non-null   int64 \n",
      " 14  JobLevel                  1470 non-null   int64 \n",
      " 15  JobRole                   1470 non-null   object\n",
      " 16  JobSatisfaction           1470 non-null   int64 \n",
      " 17  MaritalStatus             1470 non-null   object\n",
      " 18  MonthlyIncome             1470 non-null   int64 \n",
      " 19  MonthlyRate               1470 non-null   int64 \n",
      " 20  NumCompaniesWorked        1470 non-null   int64 \n",
      " 21  Over18                    1470 non-null   object\n",
      " 22  OverTime                  1470 non-null   object\n",
      " 23  PercentSalaryHike         1470 non-null   int64 \n",
      " 24  PerformanceRating         1470 non-null   int64 \n",
      " 25  RelationshipSatisfaction  1470 non-null   int64 \n",
      " 26  StandardHours             1470 non-null   int64 \n",
      " 27  StockOptionLevel          1470 non-null   int64 \n",
      " 28  TotalWorkingYears         1470 non-null   int64 \n",
      " 29  TrainingTimesLastYear     1470 non-null   int64 \n",
      " 30  WorkLifeBalance           1470 non-null   int64 \n",
      " 31  YearsAtCompany            1470 non-null   int64 \n",
      " 32  YearsInCurrentRole        1470 non-null   int64 \n",
      " 33  YearsSinceLastPromotion   1470 non-null   int64 \n",
      " 34  YearsWithCurrManager      1470 non-null   int64 \n",
      "dtypes: int64(26), object(9)\n",
      "memory usage: 402.1+ KB\n"
     ]
    },
    {
     "data": {
      "text/plain": [
       "Age                           43\n",
       "Attrition                      2\n",
       "BusinessTravel                 3\n",
       "DailyRate                    886\n",
       "Department                     3\n",
       "DistanceFromHome              29\n",
       "Education                      5\n",
       "EducationField                 6\n",
       "EmployeeCount                  1\n",
       "EmployeeNumber              1470\n",
       "EnvironmentSatisfaction        4\n",
       "Gender                         2\n",
       "HourlyRate                    71\n",
       "JobInvolvement                 4\n",
       "JobLevel                       5\n",
       "JobRole                        9\n",
       "JobSatisfaction                4\n",
       "MaritalStatus                  3\n",
       "MonthlyIncome               1349\n",
       "MonthlyRate                 1427\n",
       "NumCompaniesWorked            10\n",
       "Over18                         1\n",
       "OverTime                       2\n",
       "PercentSalaryHike             15\n",
       "PerformanceRating              2\n",
       "RelationshipSatisfaction       4\n",
       "StandardHours                  1\n",
       "StockOptionLevel               4\n",
       "TotalWorkingYears             40\n",
       "TrainingTimesLastYear          7\n",
       "WorkLifeBalance                4\n",
       "YearsAtCompany                37\n",
       "YearsInCurrentRole            19\n",
       "YearsSinceLastPromotion       16\n",
       "YearsWithCurrManager          18\n",
       "dtype: int64"
      ]
     },
     "execution_count": 4,
     "metadata": {},
     "output_type": "execute_result"
    }
   ],
   "source": [
    "df.info()\n",
    "df.describe()\n",
    "df.isnull().sum()\n",
    "df.nunique()\n"
   ]
  },
  {
   "cell_type": "markdown",
   "id": "fd1bceb8-56a0-44c4-83f5-e3ac0f6807ee",
   "metadata": {},
   "source": [
    "## 🔍 Business Questions to Explore\n",
    "\n",
    "In this analysis, we aim to answer the following HR-related questions using visual and statistical insights:\n",
    "\n",
    "1. **How many employees left the company?**\n",
    "2. **What is the attrition rate by gender?**\n",
    "3. **Does working overtime affect attrition?**\n",
    "4. **What is the average age of employees who left vs. stayed?**\n",
    "5. **Which departments have the highest attrition?**\n",
    "6. **Is job satisfaction linked to attrition?**\n",
    "7. **What's the correlation between total working years and years at company?**\n"
   ]
  },
  {
   "cell_type": "markdown",
   "id": "64f15fbd-0919-4b40-9f94-c5140aae1a7e",
   "metadata": {},
   "source": [
    "Q1: How many employees left the company?"
   ]
  },
  {
   "cell_type": "code",
   "execution_count": 6,
   "id": "713cf5a8-fec0-476a-8d9d-7bf00093af7f",
   "metadata": {},
   "outputs": [
    {
     "name": "stdout",
     "output_type": "stream",
     "text": [
      "Attrition\n",
      "No     1233\n",
      "Yes     237\n",
      "Name: count, dtype: int64\n"
     ]
    },
    {
     "data": {
      "image/png": "[encoded data removed]",
      "text/plain": [
       "<Figure size 640x480 with 1 Axes>"
      ]
     },
     "metadata": {},
     "output_type": "display_data"
    }
   ],
   "source": [
    "# Count of attrition\n",
    "\n",
    "attrition_counts = df[\"Attrition\"].value_counts()\n",
    "print(attrition_counts)\n",
    "\n",
    "# Visualization\n",
    "sns.countplot(x='Attrition', data=df, palette='Set2')\n",
    "plt.title('Attrition Count')\n",
    "plt.show()"
   ]
  },
  {
   "cell_type": "markdown",
   "id": "b1445229-a3f7-468d-ac9e-8276845db4a8",
   "metadata": {},
   "source": [
    "### 📌 Observation:\n",
    "The majority of employees stayed with the company. However, around 16% left, indicating a non-negligible attrition rate that may require investigation.\n"
   ]
  },
  {
   "cell_type": "markdown",
   "id": "ceae3231-9c67-4ca7-8986-e60dbc6ea55d",
   "metadata": {},
   "source": [
    " Q2. What is the attrition rate by gender"
   ]
  },
  {
   "cell_type": "code",
   "execution_count": 7,
   "id": "842c198c-bb4f-45e0-8893-8fb6d5e33190",
   "metadata": {},
   "outputs": [
    {
     "name": "stdout",
     "output_type": "stream",
     "text": [
      "Attrition         No        Yes\n",
      "Gender                         \n",
      "Female     85.204082  14.795918\n",
      "Male       82.993197  17.006803\n"
     ]
    },
    {
     "data": {
      "image/png": "[encoded data removed]",
      "text/plain": [
       "<Figure size 640x480 with 1 Axes>"
      ]
     },
     "metadata": {},
     "output_type": "display_data"
    }
   ],
   "source": [
    "# Percentage-based view\n",
    "gender_attrition = pd.crosstab(df['Gender'], df['Attrition'], normalize='index') * 100\n",
    "print(gender_attrition)\n",
    "\n",
    "# Visualization\n",
    "sns.countplot(x='Gender', hue='Attrition', data=df, palette='Set1')\n",
    "plt.title('Attrition by Gender')\n",
    "plt.show()\n"
   ]
  },
  {
   "cell_type": "markdown",
   "id": "4f1cca62-d965-4e4c-adf1-03c4a4833395",
   "metadata": {},
   "source": [
    "### 📌 Observation:\n",
    "Both genders experience attrition, but slightly more males left than females. This might be influenced by department assignments, roles, or other job conditions.\n"
   ]
  },
  {
   "cell_type": "markdown",
   "id": "135d8794-e6b8-4678-97ae-7cdff90f8e4f",
   "metadata": {},
   "source": [
    "🔹 Q3. Does working overtime affect attrition?"
   ]
  },
  {
   "cell_type": "code",
   "execution_count": 8,
   "id": "a6ad742b-e55f-4037-b99d-e20e1ac03eaf",
   "metadata": {},
   "outputs": [
    {
     "name": "stdout",
     "output_type": "stream",
     "text": [
      "Attrition         No        Yes\n",
      "OverTime                       \n",
      "No         89.563567  10.436433\n",
      "Yes        69.471154  30.528846\n"
     ]
    },
    {
     "data": {
      "image/png": "[encoded data removed]",
      "text/plain": [
       "<Figure size 640x480 with 1 Axes>"
      ]
     },
     "metadata": {},
     "output_type": "display_data"
    }
   ],
   "source": [
    "# Percentage comparison\n",
    "overtime_attrition = pd.crosstab(df['OverTime'], df['Attrition'], normalize='index') * 100\n",
    "print(overtime_attrition)\n",
    "\n",
    "# Visualization\n",
    "sns.countplot(x='OverTime', hue='Attrition', data=df, palette='Set3')\n",
    "plt.title('Attrition by Overtime Status')\n",
    "plt.show()\n"
   ]
  },
  {
   "cell_type": "markdown",
   "id": "8c66c2eb-3f9d-43d7-bb52-aa9a065bc5b0",
   "metadata": {},
   "source": [
    "### 📌 Observation:\n",
    "Employees who work overtime show significantly higher attrition rates compared to those who don't. This could point to burnout or lack of work-life balance."
   ]
  },
  {
   "cell_type": "markdown",
   "id": "04a74880-f80f-40a2-a7bd-43255997c0e2",
   "metadata": {},
   "source": [
    "Q4. What is the average age of employees who left vs. stayed?"
   ]
  },
  {
   "cell_type": "code",
   "execution_count": 9,
   "id": "0ce5bcf3-aad9-4c6a-8182-b7d0fe2b6321",
   "metadata": {},
   "outputs": [
    {
     "name": "stdout",
     "output_type": "stream",
     "text": [
      "Attrition\n",
      "No     37.561233\n",
      "Yes    33.607595\n",
      "Name: Age, dtype: float64\n"
     ]
    },
    {
     "data": {
      "image/png": "[encoded data removed]",
      "text/plain": [
       "<Figure size 640x480 with 1 Axes>"
      ]
     },
     "metadata": {},
     "output_type": "display_data"
    }
   ],
   "source": [
    "# Mean age comparison\n",
    "print(df.groupby('Attrition')['Age'].mean())\n",
    "\n",
    "# Visualization\n",
    "sns.boxplot(x='Attrition', y='Age', data=df, palette='Set2')\n",
    "plt.title('Age vs. Attrition')\n",
    "plt.show()\n"
   ]
  },
  {
   "cell_type": "markdown",
   "id": "c957ba1e-95b9-4056-8902-d6d729bdd955",
   "metadata": {},
   "source": [
    "### 📌 Observation:\n",
    "Employees who left tend to be younger on average, suggesting newer or early-career employees are more likely to leave — possibly due to unmet expectations or better offers.\n"
   ]
  },
  {
   "cell_type": "markdown",
   "id": "fd8ebce2-f699-456c-8f5e-b172a0a12977",
   "metadata": {},
   "source": [
    " Q5. Which departments have the highest attrition?"
   ]
  },
  {
   "cell_type": "code",
   "execution_count": 10,
   "id": "eb85b593-95a7-4ad5-b618-6ebf4f756ed6",
   "metadata": {},
   "outputs": [
    {
     "name": "stdout",
     "output_type": "stream",
     "text": [
      "Attrition                      No        Yes\n",
      "Department                                  \n",
      "Human Resources         80.952381  19.047619\n",
      "Research & Development  86.160250  13.839750\n",
      "Sales                   79.372197  20.627803\n"
     ]
    },
    {
     "data": {
      "image/png": "[encoded data removed]",
      "text/plain": [
       "<Figure size 640x480 with 1 Axes>"
      ]
     },
     "metadata": {},
     "output_type": "display_data"
    }
   ],
   "source": [
    "# Department-level attrition rates\n",
    "dept_attrition = pd.crosstab(df['Department'], df['Attrition'], normalize='index') * 100\n",
    "print(dept_attrition)\n",
    "\n",
    "# Visualization\n",
    "sns.countplot(x='Department', hue='Attrition', data=df, palette='Accent')\n",
    "plt.title('Attrition by Department')\n",
    "plt.xticks(rotation=45)\n",
    "plt.show()\n"
   ]
  },
  {
   "cell_type": "markdown",
   "id": "d0d9dc3b-5f47-4d09-8e26-e9790f417b8b",
   "metadata": {},
   "source": [
    "### 📌 Observation:\n",
    "The Sales department appears to have the highest attrition rate, followed by R&D. HR shows lower attrition, possibly due to smaller size or better internal alignment.\n"
   ]
  },
  {
   "cell_type": "markdown",
   "id": "4d965e6c-b6d2-4ea4-9802-ced1f5065614",
   "metadata": {},
   "source": [
    "Q6. Is job satisfaction linked to attrition?"
   ]
  },
  {
   "cell_type": "code",
   "execution_count": 11,
   "id": "a70ca809-d853-478f-8b6d-45cac40859ba",
   "metadata": {},
   "outputs": [
    {
     "name": "stdout",
     "output_type": "stream",
     "text": [
      "Attrition\n",
      "No     2.778589\n",
      "Yes    2.468354\n",
      "Name: JobSatisfaction, dtype: float64\n"
     ]
    },
    {
     "data": {
      "image/png": "[encoded data removed]",
      "text/plain": [
       "<Figure size 640x480 with 1 Axes>"
      ]
     },
     "metadata": {},
     "output_type": "display_data"
    }
   ],
   "source": [
    "# Satisfaction scores\n",
    "print(df.groupby('Attrition')['JobSatisfaction'].mean())\n",
    "\n",
    "# Visualization\n",
    "sns.boxplot(x='Attrition', y='JobSatisfaction', data=df, palette='coolwarm')\n",
    "plt.title('Job Satisfaction vs. Attrition')\n",
    "plt.show()\n"
   ]
  },
  {
   "cell_type": "markdown",
   "id": "a913ffa0-b030-4bb7-b8a2-c0c104d577a5",
   "metadata": {},
   "source": [
    "### 📌 Observation:\n",
    "Employees who stayed tend to report slightly higher job satisfaction scores. Improving job satisfaction could help reduce attrition.\n"
   ]
  },
  {
   "cell_type": "markdown",
   "id": "e9bb70a0-5486-40e5-8c25-ffc3b288c3f2",
   "metadata": {},
   "source": [
    "Q7. What’s the correlation between total working years and years at company?"
   ]
  },
  {
   "cell_type": "markdown",
   "id": "be26826f-c1da-436d-8f40-577c5704ca7e",
   "metadata": {},
   "source": [
    "# Scatter plot\n",
    "sns.scatterplot(x='TotalWorkingYears', y='YearsAtCompany', hue='Attrition', data=df, palette='Set1')\n",
    "plt.title('Total Working Years vs. Years at Company')\n",
    "plt.show()\n",
    "\n",
    "# Correlation value\n",
    "correlation = df[['TotalWorkingYears', 'YearsAtCompany']].corr()\n",
    "print(correlation)\n"
   ]
  },
  {
   "cell_type": "markdown",
   "id": "91953059-1a19-4e31-b65c-fe1dea915ae5",
   "metadata": {},
   "source": [
    "### 📌 Observation:\n",
    "There is a positive correlation between total working years and years at the current company, as expected. Employees with lower overall experience and time at the company are more likely to leave.\n"
   ]
  },
  {
   "cell_type": "markdown",
   "id": "940838d9-9775-4ccf-84b3-4bc303438ecc",
   "metadata": {},
   "source": [
    "## 💡 Final Insights & Takeaways\n",
    "\n",
    "Here are the overall insights gathered from the Exploratory Data Analysis:\n",
    "\n",
    "- 🔄 **Attrition Rate**: The dataset shows an attrition rate of around 16%. This is a notable figure that may reflect employee dissatisfaction, workload imbalance, or external opportunities.\n",
    "\n",
    "- 🚹🚺 **Gender Comparison**: While both males and females leave the company, males show a slightly higher attrition rate. This could be due to job roles, overtime expectations, or other factors that should be explored further.\n",
    "\n",
    "- ⏱️ **Overtime is a Red Flag**: Employees working overtime are **far more likely to leave** than those with regular hours. This clearly signals a need for the company to review overtime policies and team workload distribution.\n",
    "\n",
    "- 👶 **Age Matters**: Younger employees tend to leave more often than older ones. This could be due to early-career job switching, lack of engagement, or unclear growth paths.\n",
    "\n",
    "- 🏢 **Sales Has the Highest Turnover**: Among all departments, **Sales** shows the most attrition. The company may benefit from targeted support or retention programs for sales teams.\n",
    "\n",
    "- 😊 **Job Satisfaction Correlation**: Lower satisfaction is slightly more common among those who leave. Employee engagement programs could help improve satisfaction and reduce attrition.\n",
    "\n",
    "- 📈 **Career Progression Analysis**: Employees with fewer total working years and less time at the company are more likely to leave. Investing in early onboarding and development could improve retention.\n",
    "\n",
    "---\n",
    "\n",
    "## ✅ Summary\n",
    "\n",
    "This EDA reveals strong indicators about attrition and workforce dynamics. The visualizations support the idea that **overtime, age, department, and satisfaction** are key drivers of employee attrition.\n",
    "\n",
    "This analysis sets the stage for:\n",
    "- 📊 Further analysis (e.g., predictive modeling for attrition)\n",
    "- 📋 Business recommendations for HR policy improvements\n",
    "- 💡 Better understanding of employee behavior and risk\n",
    "\n",
    "---\n"
   ]
  }
 ],
 "metadata": {
  "kernelspec": {
   "display_name": "Python 3 (ipykernel)",
   "language": "python",
   "name": "python3"
  },
  "language_info": {
   "codemirror_mode": {
    "name": "ipython",
    "version": 3
   },
   "file_extension": ".py",
   "mimetype": "text/x-python",
   "name": "python",
   "nbconvert_exporter": "python",
   "pygments_lexer": "ipython3",
   "version": "3.13.5"
  }
 },
 "nbformat": 4,
 "nbformat_minor": 5
}
